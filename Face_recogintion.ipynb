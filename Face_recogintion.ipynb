{
  "nbformat": 4,
  "nbformat_minor": 0,
  "metadata": {
    "colab": {
      "name": "Face recogintion.ipynb",
      "provenance": [],
      "collapsed_sections": []
    },
    "kernelspec": {
      "name": "python3",
      "display_name": "Python 3"
    }
  },
  "cells": [
    {
      "cell_type": "markdown",
      "metadata": {
        "id": "0NoVmMYbhcEr"
      },
      "source": [
        "# Face recogintion\n",
        "\n",
        "## Problem Statement\n",
        "We intend to perform face recognition. face recognition means that for a given image you can tell the subject id. Our database of subjects is very simple. It has 40 subjects."
      ]
    },
    {
      "cell_type": "markdown",
      "metadata": {
        "id": "kEUqRZaAh5-B"
      },
      "source": [
        "We will start by connecting google drive to our notebook, we will need it to load kaggle config and download our dataset into."
      ]
    },
    {
      "cell_type": "code",
      "metadata": {
        "id": "wgdKPPxMhPKx",
        "colab": {
          "base_uri": "https://localhost:8080/"
        },
        "outputId": "ea93d1e2-79e1-43f6-8583-5d5394a1a841"
      },
      "source": [
        "from google.colab import drive\n",
        "drive.mount('/content/gdrive')"
      ],
      "execution_count": null,
      "outputs": [
        {
          "output_type": "stream",
          "text": [
            "Mounted at /content/gdrive\n"
          ],
          "name": "stdout"
        }
      ]
    },
    {
      "cell_type": "markdown",
      "metadata": {
        "id": "rO5tKbTKiacZ"
      },
      "source": [
        "Next, we will load our config file to be able to use kaggle's api."
      ]
    },
    {
      "cell_type": "code",
      "metadata": {
        "id": "ulDXdx6LiP1T"
      },
      "source": [
        "import os\n",
        "os.environ['KAGGLE_CONFIG_DIR'] = \"/content/gdrive/My Drive/Kaggle\""
      ],
      "execution_count": null,
      "outputs": []
    },
    {
      "cell_type": "code",
      "metadata": {
        "colab": {
          "base_uri": "https://localhost:8080/"
        },
        "id": "zqLG5gtwih2y",
        "outputId": "5fafea84-4840-4b29-ae67-ca5f2ce1d3e8"
      },
      "source": [
        "# changing the working directory\n",
        "%cd /content/gdrive/My Drive/Kaggle\n",
        "#Check the present working directory using pwd command"
      ],
      "execution_count": null,
      "outputs": [
        {
          "output_type": "stream",
          "text": [
            "/content/gdrive/My Drive/Kaggle\n"
          ],
          "name": "stdout"
        }
      ]
    },
    {
      "cell_type": "markdown",
      "metadata": {
        "id": "UQDOU8P6qVHA"
      },
      "source": [
        "## 1) Download the dataset"
      ]
    },
    {
      "cell_type": "code",
      "metadata": {
        "id": "bRiVXfPCinLa"
      },
      "source": [
        "# to not download the dataset each time we run this notebook\n",
        "downloaded = True \n",
        "if not downloaded:\n",
        "    !kaggle datasets download -d kasikrit/att-database-of-faces\n",
        "    \n",
        "    # unzipping the zip files and deleting the zip files\n",
        "    ! unzip att-database-of-faces.zip -d att-database-of-faces"
      ],
      "execution_count": null,
      "outputs": []
    },
    {
      "cell_type": "markdown",
      "metadata": {
        "id": "oNJ30K5Oi3K5"
      },
      "source": [
        "Lets now load our libraries."
      ]
    },
    {
      "cell_type": "code",
      "metadata": {
        "id": "woEbhyuGi1ZR"
      },
      "source": [
        "import os\n",
        "import cv2\n",
        "import numpy as np\n",
        "import pandas as pd\n",
        "import matplotlib.pyplot as plt\n",
        "\n",
        "%matplotlib inline"
      ],
      "execution_count": null,
      "outputs": []
    },
    {
      "cell_type": "markdown",
      "metadata": {
        "id": "QzZEjHoyjEhp"
      },
      "source": [
        "Now we can load our dataset, generate our data matrix, and create a dataframe using the data matrix."
      ]
    },
    {
      "cell_type": "markdown",
      "metadata": {
        "id": "63p8XsQ0qbw3"
      },
      "source": [
        "## 2) Generate the Data Matrix, the Label vector, and understanding the format."
      ]
    },
    {
      "cell_type": "code",
      "metadata": {
        "id": "v6jGn31Gi-FK"
      },
      "source": [
        "def load_data(data_path):\n",
        "    image_dir = []    # contains all the images directories\n",
        "    subject = []    # contains the corresponding subject number for each image\n",
        "    image_id = []    # contains the image id \n",
        "    image_vector = []    # contain the flattened images\n",
        "\n",
        "    for folder in os.listdir(data_path):\n",
        "        # it is not a folder so we will have to skip it.\n",
        "        if folder == \"README\":\n",
        "            continue\n",
        "        \n",
        "        for image in os.listdir(data_path + folder):\n",
        "            current_image_dir = data_path + folder + '/' + image\n",
        "            image_dir.append(current_image_dir)\n",
        "            subject.append(folder[1:])\n",
        "            image_id.append(image.split(\".\")[0])\n",
        "            # we will read the images in greyscale hence cv2.imread(_, 0)\n",
        "            image_vector.append(cv2.imread(current_image_dir, 0).flatten())\n",
        "\n",
        "\n",
        "    data_df = pd.DataFrame(image_vector)\n",
        "    data_df['image_dir'] = image_dir\n",
        "    data_df['subject'] = subject\n",
        "    data_df['id'] = image_id\n",
        "\n",
        "    return data_df\n",
        "\n",
        "data_path = './att-database-of-faces/'\n",
        "data_df = load_data(data_path)"
      ],
      "execution_count": null,
      "outputs": []
    },
    {
      "cell_type": "code",
      "metadata": {
        "colab": {
          "base_uri": "https://localhost:8080/",
          "height": 440
        },
        "id": "OwybGs6hkYab",
        "outputId": "ac804f21-430a-4dac-b6d1-b6eb02e60e92"
      },
      "source": [
        "# taking a quick look at our dataframe\n",
        "print(data_df.shape)\n",
        "data_df.head()"
      ],
      "execution_count": null,
      "outputs": [
        {
          "output_type": "stream",
          "text": [
            "(400, 10307)\n"
          ],
          "name": "stdout"
        },
        {
          "output_type": "execute_result",
          "data": {
            "text/html": [
              "<div>\n",
              "<style scoped>\n",
              "    .dataframe tbody tr th:only-of-type {\n",
              "        vertical-align: middle;\n",
              "    }\n",
              "\n",
              "    .dataframe tbody tr th {\n",
              "        vertical-align: top;\n",
              "    }\n",
              "\n",
              "    .dataframe thead th {\n",
              "        text-align: right;\n",
              "    }\n",
              "</style>\n",
              "<table border=\"1\" class=\"dataframe\">\n",
              "  <thead>\n",
              "    <tr style=\"text-align: right;\">\n",
              "      <th></th>\n",
              "      <th>0</th>\n",
              "      <th>1</th>\n",
              "      <th>2</th>\n",
              "      <th>3</th>\n",
              "      <th>4</th>\n",
              "      <th>5</th>\n",
              "      <th>6</th>\n",
              "      <th>7</th>\n",
              "      <th>8</th>\n",
              "      <th>9</th>\n",
              "      <th>10</th>\n",
              "      <th>11</th>\n",
              "      <th>12</th>\n",
              "      <th>13</th>\n",
              "      <th>14</th>\n",
              "      <th>15</th>\n",
              "      <th>16</th>\n",
              "      <th>17</th>\n",
              "      <th>18</th>\n",
              "      <th>19</th>\n",
              "      <th>20</th>\n",
              "      <th>21</th>\n",
              "      <th>22</th>\n",
              "      <th>23</th>\n",
              "      <th>24</th>\n",
              "      <th>25</th>\n",
              "      <th>26</th>\n",
              "      <th>27</th>\n",
              "      <th>28</th>\n",
              "      <th>29</th>\n",
              "      <th>30</th>\n",
              "      <th>31</th>\n",
              "      <th>32</th>\n",
              "      <th>33</th>\n",
              "      <th>34</th>\n",
              "      <th>35</th>\n",
              "      <th>36</th>\n",
              "      <th>37</th>\n",
              "      <th>38</th>\n",
              "      <th>39</th>\n",
              "      <th>...</th>\n",
              "      <th>10267</th>\n",
              "      <th>10268</th>\n",
              "      <th>10269</th>\n",
              "      <th>10270</th>\n",
              "      <th>10271</th>\n",
              "      <th>10272</th>\n",
              "      <th>10273</th>\n",
              "      <th>10274</th>\n",
              "      <th>10275</th>\n",
              "      <th>10276</th>\n",
              "      <th>10277</th>\n",
              "      <th>10278</th>\n",
              "      <th>10279</th>\n",
              "      <th>10280</th>\n",
              "      <th>10281</th>\n",
              "      <th>10282</th>\n",
              "      <th>10283</th>\n",
              "      <th>10284</th>\n",
              "      <th>10285</th>\n",
              "      <th>10286</th>\n",
              "      <th>10287</th>\n",
              "      <th>10288</th>\n",
              "      <th>10289</th>\n",
              "      <th>10290</th>\n",
              "      <th>10291</th>\n",
              "      <th>10292</th>\n",
              "      <th>10293</th>\n",
              "      <th>10294</th>\n",
              "      <th>10295</th>\n",
              "      <th>10296</th>\n",
              "      <th>10297</th>\n",
              "      <th>10298</th>\n",
              "      <th>10299</th>\n",
              "      <th>10300</th>\n",
              "      <th>10301</th>\n",
              "      <th>10302</th>\n",
              "      <th>10303</th>\n",
              "      <th>image_dir</th>\n",
              "      <th>subject</th>\n",
              "      <th>id</th>\n",
              "    </tr>\n",
              "  </thead>\n",
              "  <tbody>\n",
              "    <tr>\n",
              "      <th>0</th>\n",
              "      <td>48</td>\n",
              "      <td>49</td>\n",
              "      <td>45</td>\n",
              "      <td>47</td>\n",
              "      <td>49</td>\n",
              "      <td>57</td>\n",
              "      <td>39</td>\n",
              "      <td>42</td>\n",
              "      <td>53</td>\n",
              "      <td>49</td>\n",
              "      <td>53</td>\n",
              "      <td>60</td>\n",
              "      <td>76</td>\n",
              "      <td>91</td>\n",
              "      <td>99</td>\n",
              "      <td>95</td>\n",
              "      <td>80</td>\n",
              "      <td>75</td>\n",
              "      <td>66</td>\n",
              "      <td>54</td>\n",
              "      <td>47</td>\n",
              "      <td>49</td>\n",
              "      <td>50</td>\n",
              "      <td>43</td>\n",
              "      <td>46</td>\n",
              "      <td>53</td>\n",
              "      <td>61</td>\n",
              "      <td>70</td>\n",
              "      <td>84</td>\n",
              "      <td>105</td>\n",
              "      <td>133</td>\n",
              "      <td>130</td>\n",
              "      <td>110</td>\n",
              "      <td>94</td>\n",
              "      <td>81</td>\n",
              "      <td>107</td>\n",
              "      <td>95</td>\n",
              "      <td>80</td>\n",
              "      <td>57</td>\n",
              "      <td>55</td>\n",
              "      <td>...</td>\n",
              "      <td>145</td>\n",
              "      <td>148</td>\n",
              "      <td>144</td>\n",
              "      <td>144</td>\n",
              "      <td>148</td>\n",
              "      <td>145</td>\n",
              "      <td>152</td>\n",
              "      <td>146</td>\n",
              "      <td>159</td>\n",
              "      <td>170</td>\n",
              "      <td>174</td>\n",
              "      <td>172</td>\n",
              "      <td>171</td>\n",
              "      <td>173</td>\n",
              "      <td>172</td>\n",
              "      <td>170</td>\n",
              "      <td>166</td>\n",
              "      <td>161</td>\n",
              "      <td>150</td>\n",
              "      <td>154</td>\n",
              "      <td>141</td>\n",
              "      <td>57</td>\n",
              "      <td>19</td>\n",
              "      <td>26</td>\n",
              "      <td>31</td>\n",
              "      <td>42</td>\n",
              "      <td>34</td>\n",
              "      <td>39</td>\n",
              "      <td>44</td>\n",
              "      <td>40</td>\n",
              "      <td>41</td>\n",
              "      <td>49</td>\n",
              "      <td>42</td>\n",
              "      <td>44</td>\n",
              "      <td>47</td>\n",
              "      <td>46</td>\n",
              "      <td>46</td>\n",
              "      <td>./att-database-of-faces/s1/1.pgm</td>\n",
              "      <td>1</td>\n",
              "      <td>1</td>\n",
              "    </tr>\n",
              "    <tr>\n",
              "      <th>1</th>\n",
              "      <td>39</td>\n",
              "      <td>44</td>\n",
              "      <td>53</td>\n",
              "      <td>37</td>\n",
              "      <td>61</td>\n",
              "      <td>48</td>\n",
              "      <td>61</td>\n",
              "      <td>45</td>\n",
              "      <td>35</td>\n",
              "      <td>40</td>\n",
              "      <td>40</td>\n",
              "      <td>39</td>\n",
              "      <td>55</td>\n",
              "      <td>84</td>\n",
              "      <td>110</td>\n",
              "      <td>96</td>\n",
              "      <td>73</td>\n",
              "      <td>72</td>\n",
              "      <td>86</td>\n",
              "      <td>103</td>\n",
              "      <td>86</td>\n",
              "      <td>88</td>\n",
              "      <td>82</td>\n",
              "      <td>77</td>\n",
              "      <td>75</td>\n",
              "      <td>88</td>\n",
              "      <td>90</td>\n",
              "      <td>123</td>\n",
              "      <td>91</td>\n",
              "      <td>94</td>\n",
              "      <td>103</td>\n",
              "      <td>105</td>\n",
              "      <td>101</td>\n",
              "      <td>97</td>\n",
              "      <td>109</td>\n",
              "      <td>108</td>\n",
              "      <td>111</td>\n",
              "      <td>120</td>\n",
              "      <td>125</td>\n",
              "      <td>131</td>\n",
              "      <td>...</td>\n",
              "      <td>148</td>\n",
              "      <td>151</td>\n",
              "      <td>153</td>\n",
              "      <td>150</td>\n",
              "      <td>147</td>\n",
              "      <td>145</td>\n",
              "      <td>143</td>\n",
              "      <td>144</td>\n",
              "      <td>146</td>\n",
              "      <td>140</td>\n",
              "      <td>121</td>\n",
              "      <td>102</td>\n",
              "      <td>91</td>\n",
              "      <td>84</td>\n",
              "      <td>77</td>\n",
              "      <td>65</td>\n",
              "      <td>48</td>\n",
              "      <td>35</td>\n",
              "      <td>26</td>\n",
              "      <td>31</td>\n",
              "      <td>32</td>\n",
              "      <td>32</td>\n",
              "      <td>33</td>\n",
              "      <td>35</td>\n",
              "      <td>39</td>\n",
              "      <td>37</td>\n",
              "      <td>44</td>\n",
              "      <td>23</td>\n",
              "      <td>30</td>\n",
              "      <td>36</td>\n",
              "      <td>32</td>\n",
              "      <td>28</td>\n",
              "      <td>32</td>\n",
              "      <td>31</td>\n",
              "      <td>29</td>\n",
              "      <td>26</td>\n",
              "      <td>29</td>\n",
              "      <td>./att-database-of-faces/s1/3.pgm</td>\n",
              "      <td>1</td>\n",
              "      <td>3</td>\n",
              "    </tr>\n",
              "    <tr>\n",
              "      <th>2</th>\n",
              "      <td>63</td>\n",
              "      <td>53</td>\n",
              "      <td>35</td>\n",
              "      <td>36</td>\n",
              "      <td>33</td>\n",
              "      <td>34</td>\n",
              "      <td>31</td>\n",
              "      <td>35</td>\n",
              "      <td>39</td>\n",
              "      <td>43</td>\n",
              "      <td>56</td>\n",
              "      <td>72</td>\n",
              "      <td>76</td>\n",
              "      <td>79</td>\n",
              "      <td>77</td>\n",
              "      <td>82</td>\n",
              "      <td>80</td>\n",
              "      <td>81</td>\n",
              "      <td>89</td>\n",
              "      <td>92</td>\n",
              "      <td>85</td>\n",
              "      <td>85</td>\n",
              "      <td>92</td>\n",
              "      <td>96</td>\n",
              "      <td>104</td>\n",
              "      <td>110</td>\n",
              "      <td>121</td>\n",
              "      <td>132</td>\n",
              "      <td>139</td>\n",
              "      <td>143</td>\n",
              "      <td>142</td>\n",
              "      <td>151</td>\n",
              "      <td>160</td>\n",
              "      <td>163</td>\n",
              "      <td>170</td>\n",
              "      <td>160</td>\n",
              "      <td>160</td>\n",
              "      <td>162</td>\n",
              "      <td>166</td>\n",
              "      <td>168</td>\n",
              "      <td>...</td>\n",
              "      <td>140</td>\n",
              "      <td>134</td>\n",
              "      <td>150</td>\n",
              "      <td>158</td>\n",
              "      <td>165</td>\n",
              "      <td>170</td>\n",
              "      <td>168</td>\n",
              "      <td>183</td>\n",
              "      <td>169</td>\n",
              "      <td>171</td>\n",
              "      <td>180</td>\n",
              "      <td>174</td>\n",
              "      <td>169</td>\n",
              "      <td>177</td>\n",
              "      <td>168</td>\n",
              "      <td>171</td>\n",
              "      <td>166</td>\n",
              "      <td>171</td>\n",
              "      <td>174</td>\n",
              "      <td>183</td>\n",
              "      <td>178</td>\n",
              "      <td>181</td>\n",
              "      <td>182</td>\n",
              "      <td>183</td>\n",
              "      <td>178</td>\n",
              "      <td>183</td>\n",
              "      <td>178</td>\n",
              "      <td>173</td>\n",
              "      <td>169</td>\n",
              "      <td>166</td>\n",
              "      <td>161</td>\n",
              "      <td>158</td>\n",
              "      <td>169</td>\n",
              "      <td>137</td>\n",
              "      <td>41</td>\n",
              "      <td>10</td>\n",
              "      <td>24</td>\n",
              "      <td>./att-database-of-faces/s1/4.pgm</td>\n",
              "      <td>1</td>\n",
              "      <td>4</td>\n",
              "    </tr>\n",
              "    <tr>\n",
              "      <th>3</th>\n",
              "      <td>34</td>\n",
              "      <td>34</td>\n",
              "      <td>33</td>\n",
              "      <td>32</td>\n",
              "      <td>38</td>\n",
              "      <td>40</td>\n",
              "      <td>39</td>\n",
              "      <td>49</td>\n",
              "      <td>54</td>\n",
              "      <td>57</td>\n",
              "      <td>65</td>\n",
              "      <td>72</td>\n",
              "      <td>85</td>\n",
              "      <td>74</td>\n",
              "      <td>66</td>\n",
              "      <td>62</td>\n",
              "      <td>68</td>\n",
              "      <td>72</td>\n",
              "      <td>73</td>\n",
              "      <td>67</td>\n",
              "      <td>71</td>\n",
              "      <td>53</td>\n",
              "      <td>56</td>\n",
              "      <td>76</td>\n",
              "      <td>80</td>\n",
              "      <td>65</td>\n",
              "      <td>66</td>\n",
              "      <td>48</td>\n",
              "      <td>34</td>\n",
              "      <td>41</td>\n",
              "      <td>39</td>\n",
              "      <td>45</td>\n",
              "      <td>45</td>\n",
              "      <td>53</td>\n",
              "      <td>60</td>\n",
              "      <td>87</td>\n",
              "      <td>120</td>\n",
              "      <td>130</td>\n",
              "      <td>129</td>\n",
              "      <td>140</td>\n",
              "      <td>...</td>\n",
              "      <td>131</td>\n",
              "      <td>135</td>\n",
              "      <td>147</td>\n",
              "      <td>154</td>\n",
              "      <td>159</td>\n",
              "      <td>169</td>\n",
              "      <td>166</td>\n",
              "      <td>164</td>\n",
              "      <td>165</td>\n",
              "      <td>164</td>\n",
              "      <td>163</td>\n",
              "      <td>158</td>\n",
              "      <td>135</td>\n",
              "      <td>89</td>\n",
              "      <td>58</td>\n",
              "      <td>63</td>\n",
              "      <td>42</td>\n",
              "      <td>18</td>\n",
              "      <td>22</td>\n",
              "      <td>29</td>\n",
              "      <td>32</td>\n",
              "      <td>37</td>\n",
              "      <td>38</td>\n",
              "      <td>37</td>\n",
              "      <td>44</td>\n",
              "      <td>46</td>\n",
              "      <td>33</td>\n",
              "      <td>42</td>\n",
              "      <td>44</td>\n",
              "      <td>38</td>\n",
              "      <td>30</td>\n",
              "      <td>37</td>\n",
              "      <td>30</td>\n",
              "      <td>36</td>\n",
              "      <td>37</td>\n",
              "      <td>40</td>\n",
              "      <td>33</td>\n",
              "      <td>./att-database-of-faces/s1/10.pgm</td>\n",
              "      <td>1</td>\n",
              "      <td>10</td>\n",
              "    </tr>\n",
              "    <tr>\n",
              "      <th>4</th>\n",
              "      <td>60</td>\n",
              "      <td>60</td>\n",
              "      <td>62</td>\n",
              "      <td>53</td>\n",
              "      <td>48</td>\n",
              "      <td>51</td>\n",
              "      <td>61</td>\n",
              "      <td>60</td>\n",
              "      <td>71</td>\n",
              "      <td>68</td>\n",
              "      <td>78</td>\n",
              "      <td>72</td>\n",
              "      <td>71</td>\n",
              "      <td>74</td>\n",
              "      <td>78</td>\n",
              "      <td>88</td>\n",
              "      <td>88</td>\n",
              "      <td>77</td>\n",
              "      <td>83</td>\n",
              "      <td>92</td>\n",
              "      <td>95</td>\n",
              "      <td>100</td>\n",
              "      <td>114</td>\n",
              "      <td>122</td>\n",
              "      <td>119</td>\n",
              "      <td>126</td>\n",
              "      <td>136</td>\n",
              "      <td>138</td>\n",
              "      <td>143</td>\n",
              "      <td>143</td>\n",
              "      <td>147</td>\n",
              "      <td>145</td>\n",
              "      <td>145</td>\n",
              "      <td>143</td>\n",
              "      <td>151</td>\n",
              "      <td>148</td>\n",
              "      <td>150</td>\n",
              "      <td>149</td>\n",
              "      <td>150</td>\n",
              "      <td>151</td>\n",
              "      <td>...</td>\n",
              "      <td>148</td>\n",
              "      <td>145</td>\n",
              "      <td>149</td>\n",
              "      <td>142</td>\n",
              "      <td>137</td>\n",
              "      <td>133</td>\n",
              "      <td>131</td>\n",
              "      <td>125</td>\n",
              "      <td>123</td>\n",
              "      <td>126</td>\n",
              "      <td>134</td>\n",
              "      <td>144</td>\n",
              "      <td>137</td>\n",
              "      <td>145</td>\n",
              "      <td>142</td>\n",
              "      <td>140</td>\n",
              "      <td>143</td>\n",
              "      <td>138</td>\n",
              "      <td>137</td>\n",
              "      <td>143</td>\n",
              "      <td>97</td>\n",
              "      <td>32</td>\n",
              "      <td>17</td>\n",
              "      <td>21</td>\n",
              "      <td>31</td>\n",
              "      <td>34</td>\n",
              "      <td>43</td>\n",
              "      <td>27</td>\n",
              "      <td>35</td>\n",
              "      <td>28</td>\n",
              "      <td>33</td>\n",
              "      <td>31</td>\n",
              "      <td>31</td>\n",
              "      <td>37</td>\n",
              "      <td>32</td>\n",
              "      <td>34</td>\n",
              "      <td>34</td>\n",
              "      <td>./att-database-of-faces/s1/2.pgm</td>\n",
              "      <td>1</td>\n",
              "      <td>2</td>\n",
              "    </tr>\n",
              "  </tbody>\n",
              "</table>\n",
              "<p>5 rows × 10307 columns</p>\n",
              "</div>"
            ],
            "text/plain": [
              "    0   1   2   3  ...  10303                          image_dir  subject  id\n",
              "0  48  49  45  47  ...     46   ./att-database-of-faces/s1/1.pgm        1   1\n",
              "1  39  44  53  37  ...     29   ./att-database-of-faces/s1/3.pgm        1   3\n",
              "2  63  53  35  36  ...     24   ./att-database-of-faces/s1/4.pgm        1   4\n",
              "3  34  34  33  32  ...     33  ./att-database-of-faces/s1/10.pgm        1  10\n",
              "4  60  60  62  53  ...     34   ./att-database-of-faces/s1/2.pgm        1   2\n",
              "\n",
              "[5 rows x 10307 columns]"
            ]
          },
          "metadata": {
            "tags": []
          },
          "execution_count": 9
        }
      ]
    },
    {
      "cell_type": "markdown",
      "metadata": {
        "id": "1OXgGRomkdm9"
      },
      "source": [
        "Each row contains the image in the form of a vector, its subject number, its directory, and its id. "
      ]
    },
    {
      "cell_type": "markdown",
      "metadata": {
        "id": "izSUHiqBk-NQ"
      },
      "source": [
        "Let us now take a look at a random image from our dataframe."
      ]
    },
    {
      "cell_type": "code",
      "metadata": {
        "colab": {
          "base_uri": "https://localhost:8080/",
          "height": 285
        },
        "id": "rbhRewBlkcri",
        "outputId": "77790e0a-c7e9-4646-9477-726686ddba5e"
      },
      "source": [
        "# generate a random number between 0 and 399\n",
        "n = np.random.randint(data_df.shape[0])\n",
        "# get the random image directory and load it\n",
        "img = cv2.imread(data_df[\"image_dir\"][n], 0)\n",
        "plt.imshow(img, cmap='gray')"
      ],
      "execution_count": null,
      "outputs": [
        {
          "output_type": "execute_result",
          "data": {
            "text/plain": [
              "<matplotlib.image.AxesImage at 0x7f32016a65f8>"
            ]
          },
          "metadata": {
            "tags": []
          },
          "execution_count": 12
        },
        {
          "output_type": "display_data",
          "data": {
            "image/png": "[encoded data removed]",
            "text/plain": [
              "<Figure size 432x288 with 1 Axes>"
            ]
          },
          "metadata": {
            "tags": [],
            "needs_background": "light"
          }
        }
      ]
    },
    {
      "cell_type": "markdown",
      "metadata": {
        "id": "TOyvIZynqoD_"
      },
      "source": [
        "## 3) Split the Dataset into train and test sets"
      ]
    },
    {
      "cell_type": "markdown",
      "metadata": {
        "id": "j7g_HYV7lv-S"
      },
      "source": [
        "We can now split our data into 2 halves, a train set and a test set.\n",
        "We will split the odd rows for training and the even rows for testing."
      ]
    },
    {
      "cell_type": "code",
      "metadata": {
        "colab": {
          "base_uri": "https://localhost:8080/"
        },
        "id": "4ULH2_selsMq",
        "outputId": "a58eab9c-faa8-4ac0-ec44-873552106b7f"
      },
      "source": [
        "train = data_df[1::2]\n",
        "test = data_df[::2]\n",
        "\n",
        "# drop the unnecessary columns from our train set features\n",
        "X_train = train.iloc[:,:-3]\n",
        "# create our train set labels\n",
        "y_train = train['subject']\n",
        "\n",
        "# drop the unnecessary columns from our test set features\n",
        "X_test = test.iloc[:,:-3]\n",
        "# create our test set labels\n",
        "y_test = test['subject']\n",
        "\n",
        "print(data_df.shape)\n",
        "print(X_test.shape)\n",
        "print(y_train.shape)"
      ],
      "execution_count": null,
      "outputs": [
        {
          "output_type": "stream",
          "text": [
            "(400, 10307)\n",
            "(200, 10304)\n",
            "(200,)\n"
          ],
          "name": "stdout"
        }
      ]
    },
    {
      "cell_type": "code",
      "metadata": {
        "colab": {
          "base_uri": "https://localhost:8080/"
        },
        "id": "HkumaFBymcsy",
        "outputId": "2181ec6b-5006-4b64-d9e0-bbd281f70708"
      },
      "source": [
        "# lets check the frequency and the count in our data set after the split\n",
        "y_train.describe()"
      ],
      "execution_count": null,
      "outputs": [
        {
          "output_type": "execute_result",
          "data": {
            "text/plain": [
              "count     200\n",
              "unique     40\n",
              "top         5\n",
              "freq        5\n",
              "Name: subject, dtype: object"
            ]
          },
          "metadata": {
            "tags": []
          },
          "execution_count": 15
        }
      ]
    },
    {
      "cell_type": "markdown",
      "metadata": {
        "id": "WbxBOZMqqucv"
      },
      "source": [
        "## 4) Classification using PCA"
      ]
    },
    {
      "cell_type": "markdown",
      "metadata": {
        "id": "kvLLIx0cmtVR"
      },
      "source": [
        "We will implement PCA from scratch, we will not use it in comparisons as it is not as optimized as the scikit-learn PCA but it returns the same result. (due to the use of np.linalg.eig which roughly takes on average 900 sec per run)"
      ]
    },
    {
      "cell_type": "code",
      "metadata": {
        "id": "U4qYJybKmgU5"
      },
      "source": [
        "def pca(X, alpha=1, components=[], mode=1):\n",
        "    print(\"PCA\")\n",
        "\n",
        "    m = np.mean(X, axis=0)  # compute mean\n",
        "    Z = X - m   # center the data\n",
        "    print(\"data centered!\")\n",
        "    print(X.shape)\n",
        "\n",
        "    if mode:\n",
        "        print(\".FIT_TRANSFORM() MODE!!!\")\n",
        "        cov_matrix = np.dot(Z.T, Z)/Z.shape[0]\n",
        "        #cov_matrix = np.cov(Z , rowvar = False)\n",
        "        print(\"Cov Matrix\")\n",
        "        e_values, e_vectors = np.linalg.eig(cov_matrix)\n",
        "        print(\"eigens done!\")\n",
        "        sorted_index = np.argsort(e_values)[::-1]\n",
        "        print(\"sorted!\")\n",
        "        e_values = e_values[sorted_index]\n",
        "        e_vectors = e_vectors[:,sorted_index]\n",
        "        e_values_sum = e_values.sum()\n",
        "        \n",
        "        r = 0\n",
        "        i = 0\n",
        "        print(\"alpha: \", alpha)\n",
        "        while (r < alpha):\n",
        "            #print(\"r: \", r, \"i: \", i)\n",
        "            curr_var = e_values[i] / e_values_sum\n",
        "            r += curr_var\n",
        "            i += 1\n",
        "        e_vectors_subset = e_vectors[:,:i]\n",
        "        #print(e_values[:i])\n",
        "    else:\n",
        "        print(\".TRANSFORM() MODE!!!\")\n",
        "        e_vectors_subset = components\n",
        "\n",
        "\n",
        "    #print(e_vectors_subset)\n",
        "    reduced_X = np.dot(e_vectors_subset.transpose(), Z.transpose()).transpose()\n",
        "\n",
        "    return reduced_X.real, e_vectors_subset\n",
        "\n",
        "\n",
        "from sklearn.neighbors import KNeighborsClassifier\n",
        "\n",
        "alpha = [0.8, 0.85, 0.9, 0.95]\n",
        "acc = []\n",
        "for a in alpha:\n",
        "    X_train_transformed, components = pca(X_train, alpha=a)\n",
        "    #print(X_train_transformed.shape)\n",
        "    neigh = KNeighborsClassifier(n_neighbors=3)\n",
        "\n",
        "    neigh.fit(X_train_transformed, y_train)\n",
        "\n",
        "    # transform new data using already fitted pca\n",
        "    # (we do not need to re-fit the pca)\n",
        "    X_test_transformed, _ = pca(X_test, alpha=a, components=components, mode=0)\n",
        "\n",
        "    # predict labels using the trained classifier\n",
        "    y_pred = neigh.predict(X_test_transformed)\n",
        "\n",
        "    from sklearn.metrics import accuracy_score\n",
        "    acc.append(accuracy_score(y_test, y_pred))"
      ],
      "execution_count": null,
      "outputs": []
    },
    {
      "cell_type": "code",
      "metadata": {
        "colab": {
          "base_uri": "https://localhost:8080/"
        },
        "id": "ZTDNDTm7nlBy",
        "outputId": "e1d373e0-b705-416f-e2f7-cadac52f1ccc"
      },
      "source": [
        "from sklearn.neighbors import KNeighborsClassifier\n",
        "from sklearn.decomposition import PCA\n",
        "from sklearn.metrics import accuracy_score\n",
        "\n",
        "alpha = np.arange(0.8, 1, 0.05)\n",
        "acc_alpha_50 = []\n",
        "for a in alpha:\n",
        "    pca = PCA(n_components=a)\n",
        "    X_train_transformed = pca.fit_transform(X_train)\n",
        "    #print(pca.components_)\n",
        "    #print(pca.components_.shape)\n",
        "    #print(X_train_transformed.shape)\n",
        "    neigh = KNeighborsClassifier(n_neighbors=3)\n",
        "\n",
        "    neigh.fit(X_train_transformed, y_train)\n",
        "\n",
        "    # transform new data using already fitted pca\n",
        "    # (we do not need to re-fit the pca)\n",
        "    X_test_transformed = pca.transform(X_test)\n",
        "\n",
        "    # predict labels using the trained classifier\n",
        "\n",
        "    y_pred = neigh.predict(X_test_transformed)\n",
        "\n",
        "    ac = accuracy_score(y_test, y_pred)\n",
        "    acc_alpha_50.append(ac)\n",
        "    print(a, ac)"
      ],
      "execution_count": null,
      "outputs": [
        {
          "output_type": "stream",
          "text": [
            "0.8 0.89\n",
            "0.8500000000000001 0.9\n",
            "0.9000000000000001 0.89\n",
            "0.9500000000000002 0.89\n"
          ],
          "name": "stdout"
        }
      ]
    },
    {
      "cell_type": "code",
      "metadata": {
        "colab": {
          "base_uri": "https://localhost:8080/",
          "height": 279
        },
        "id": "drC98UM9nprp",
        "outputId": "732c699b-53b9-45f9-df42-cab56fcc4e14"
      },
      "source": [
        "plt.plot(alpha, acc_alpha_50)\n",
        "plt.xlabel('alpha')\n",
        "plt.ylabel('accuracy')\n",
        "plt.show()"
      ],
      "execution_count": null,
      "outputs": [
        {
          "output_type": "display_data",
          "data": {
            "image/png": "[encoded data removed]",
            "text/plain": [
              "<Figure size 432x288 with 1 Axes>"
            ]
          },
          "metadata": {
            "tags": [],
            "needs_background": "light"
          }
        }
      ]
    },
    {
      "cell_type": "markdown",
      "metadata": {
        "id": "n5Z6Hx3soDZJ"
      },
      "source": [
        "As alpha increase, the model's accuracy starts to get better, then after alpha = 0.85, our model start to overfit on our dataset."
      ]
    },
    {
      "cell_type": "markdown",
      "metadata": {
        "id": "KRAFneOmq2Hf"
      },
      "source": [
        "## 6) Classifier Tuning"
      ]
    },
    {
      "cell_type": "code",
      "metadata": {
        "colab": {
          "base_uri": "https://localhost:8080/"
        },
        "id": "WBVjP5Y8n_FJ",
        "outputId": "41796d8e-46a2-4f99-d308-c077e46ccf01"
      },
      "source": [
        "from sklearn.pipeline import Pipeline\n",
        "from sklearn.metrics import accuracy_score\n",
        "\n",
        "\n",
        "kn = np.arange(1, 9, 2)\n",
        "# alpha = np.arange(0.8, 1, 0.05)\n",
        "alpha = [0.85]\n",
        "\n",
        "acc_k_50 = []\n",
        "for k in kn:\n",
        "    for a in alpha:\n",
        "        pipe = Pipeline([('pca', PCA(n_components=a)),\n",
        "                        ('knn', KNeighborsClassifier(n_neighbors=k))])\n",
        "\n",
        "        pipe.fit(X_train, y_train)\n",
        "\n",
        "        y_pred = pipe.predict(X_test)\n",
        "\n",
        "        ac = accuracy_score(y_test, y_pred)\n",
        "        acc_k_50.append(ac)\n",
        "        print(\"k: {}, alpha: {}, acc: {}\".format(k, a, ac))"
      ],
      "execution_count": null,
      "outputs": [
        {
          "output_type": "stream",
          "text": [
            "k: 1, alpha: 0.85, acc: 0.96\n",
            "k: 3, alpha: 0.85, acc: 0.9\n",
            "k: 5, alpha: 0.85, acc: 0.835\n",
            "k: 7, alpha: 0.85, acc: 0.795\n"
          ],
          "name": "stdout"
        }
      ]
    },
    {
      "cell_type": "code",
      "metadata": {
        "colab": {
          "base_uri": "https://localhost:8080/",
          "height": 296
        },
        "id": "tEHHYqg-o9R2",
        "outputId": "4409f907-5811-4708-e9ff-26a317017111"
      },
      "source": [
        "plt.plot(kn, acc_k_50)\n",
        "plt.xlabel('K size')\n",
        "plt.ylabel('accuracy')"
      ],
      "execution_count": null,
      "outputs": [
        {
          "output_type": "execute_result",
          "data": {
            "text/plain": [
              "Text(0, 0.5, 'accuracy')"
            ]
          },
          "metadata": {
            "tags": []
          },
          "execution_count": 29
        },
        {
          "output_type": "display_data",
          "data": {
            "image/png": "[encoded data removed]",
            "text/plain": [
              "<Figure size 432x288 with 1 Axes>"
            ]
          },
          "metadata": {
            "tags": [],
            "needs_background": "light"
          }
        }
      ]
    },
    {
      "cell_type": "markdown",
      "metadata": {
        "id": "QSW9O015phMh"
      },
      "source": [
        "Our Knn Model's tie breaking strategy is to take the result depending on their order in the training data.\n",
        "<br>\n",
        "As we increase our K, our model's accuracy decreases."
      ]
    },
    {
      "cell_type": "markdown",
      "metadata": {
        "id": "uS2bXpXKq87n"
      },
      "source": [
        "## 7) Bonus\n",
        "Change the number ofinstances per subject to be 7 and keep 3 instances per subject for testing.compare the results you have with the ones you got earlier with 50% split."
      ]
    },
    {
      "cell_type": "code",
      "metadata": {
        "id": "UWbgx_7dpKTw"
      },
      "source": [
        "from sklearn.model_selection import train_test_split\n",
        "\n",
        "train, test = train_test_split(data_df, test_size=0.3, random_state=42, stratify=data_df[\"subject\"])"
      ],
      "execution_count": null,
      "outputs": []
    },
    {
      "cell_type": "code",
      "metadata": {
        "colab": {
          "base_uri": "https://localhost:8080/"
        },
        "id": "3iHFYCjwsrgw",
        "outputId": "86a8cc85-26c8-4665-86f6-8cd2c3097408"
      },
      "source": [
        "X_train = train.iloc[:,:-3]\n",
        "y_train = train['subject']\n",
        "\n",
        "X_test = test.iloc[:,:-3]\n",
        "y_test = test['subject']\n",
        "\n",
        "print(data_df.shape)\n",
        "print(X_test.shape)\n",
        "print(y_train.shape)"
      ],
      "execution_count": null,
      "outputs": [
        {
          "output_type": "stream",
          "text": [
            "(400, 10307)\n",
            "(120, 10304)\n",
            "(280,)\n"
          ],
          "name": "stdout"
        }
      ]
    },
    {
      "cell_type": "code",
      "metadata": {
        "colab": {
          "base_uri": "https://localhost:8080/"
        },
        "id": "4Cygv7KDsw4g",
        "outputId": "164d4aac-c41f-4462-b9fa-1246990c89f4"
      },
      "source": [
        "y_train.describe()"
      ],
      "execution_count": null,
      "outputs": [
        {
          "output_type": "execute_result",
          "data": {
            "text/plain": [
              "count     280\n",
              "unique     40\n",
              "top         5\n",
              "freq        7\n",
              "Name: subject, dtype: object"
            ]
          },
          "metadata": {
            "tags": []
          },
          "execution_count": 43
        }
      ]
    },
    {
      "cell_type": "code",
      "metadata": {
        "colab": {
          "base_uri": "https://localhost:8080/"
        },
        "id": "K488h2nRs7UC",
        "outputId": "737161ab-3942-4d46-9a70-786b8f4a05b1"
      },
      "source": [
        "from sklearn.neighbors import KNeighborsClassifier\n",
        "from sklearn.decomposition import PCA\n",
        "from sklearn.metrics import accuracy_score\n",
        "\n",
        "alpha = np.arange(0.8, 1, 0.05)\n",
        "acc_alpha_70 = []\n",
        "for a in alpha:\n",
        "    pca = PCA(n_components=a)\n",
        "    X_train_transformed = pca.fit_transform(X_train)\n",
        "    #print(pca.components_)\n",
        "    #print(pca.components_.shape)\n",
        "    #print(X_train_transformed.shape)\n",
        "    neigh = KNeighborsClassifier(n_neighbors=3)\n",
        "\n",
        "    neigh.fit(X_train_transformed, y_train)\n",
        "\n",
        "    # transform new data using already fitted pca\n",
        "    # (we do not need to re-fit the pca)\n",
        "    X_test_transformed = pca.transform(X_test)\n",
        "\n",
        "    # predict labels using the trained classifier\n",
        "\n",
        "    y_pred = neigh.predict(X_test_transformed)\n",
        "\n",
        "    ac = accuracy_score(y_test, y_pred)\n",
        "    acc_alpha_70.append(ac)\n",
        "    print(a, ac)"
      ],
      "execution_count": null,
      "outputs": [
        {
          "output_type": "stream",
          "text": [
            "0.8 0.9583333333333334\n",
            "0.8500000000000001 0.9416666666666667\n",
            "0.9000000000000001 0.9416666666666667\n",
            "0.9500000000000002 0.9333333333333333\n"
          ],
          "name": "stdout"
        }
      ]
    },
    {
      "cell_type": "code",
      "metadata": {
        "colab": {
          "base_uri": "https://localhost:8080/",
          "height": 279
        },
        "id": "R8VKgUi6tKpq",
        "outputId": "b2e9a38f-b8c3-4d93-889f-974be72e51ba"
      },
      "source": [
        "plt.plot(alpha, acc_alpha_70, label=\"70% split\")\n",
        "plt.plot(alpha, acc_alpha_50, label=\"50% split\")\n",
        "plt.xlabel('alpha')\n",
        "plt.ylabel('accuracy')\n",
        "plt.legend()\n",
        "plt.show()"
      ],
      "execution_count": null,
      "outputs": [
        {
          "output_type": "display_data",
          "data": {
            "image/png": "[encoded data removed]",
            "text/plain": [
              "<Figure size 432x288 with 1 Axes>"
            ]
          },
          "metadata": {
            "tags": [],
            "needs_background": "light"
          }
        }
      ]
    },
    {
      "cell_type": "code",
      "metadata": {
        "colab": {
          "base_uri": "https://localhost:8080/"
        },
        "id": "t4cSXhcntCYR",
        "outputId": "6dd60a39-18cf-4958-e1e5-e45812ebd5c4"
      },
      "source": [
        "from sklearn.pipeline import Pipeline\n",
        "from sklearn.metrics import accuracy_score\n",
        "\n",
        "\n",
        "kn = np.arange(1, 9, 2)\n",
        "# alpha = np.arange(0.8, 1, 0.05)\n",
        "alpha = [0.85]\n",
        "\n",
        "acc_k_70 = []\n",
        "for k in kn:\n",
        "    for a in alpha:\n",
        "        pipe = Pipeline([('pca', PCA(n_components=a)),\n",
        "                        ('knn', KNeighborsClassifier(n_neighbors=k))])\n",
        "\n",
        "        pipe.fit(X_train, y_train)\n",
        "\n",
        "        y_pred = pipe.predict(X_test)\n",
        "\n",
        "        ac = accuracy_score(y_test, y_pred)\n",
        "        acc_k_70.append(ac)\n",
        "        print(\"k: {}, alpha: {}, acc: {}\".format(k, a, ac))"
      ],
      "execution_count": null,
      "outputs": [
        {
          "output_type": "stream",
          "text": [
            "k: 1, alpha: 0.85, acc: 0.9916666666666667\n",
            "k: 3, alpha: 0.85, acc: 0.9416666666666667\n",
            "k: 5, alpha: 0.85, acc: 0.8916666666666667\n",
            "k: 7, alpha: 0.85, acc: 0.8666666666666667\n"
          ],
          "name": "stdout"
        }
      ]
    },
    {
      "cell_type": "code",
      "metadata": {
        "colab": {
          "base_uri": "https://localhost:8080/",
          "height": 282
        },
        "id": "8o9WUbk-tgNN",
        "outputId": "aa74d48c-9438-437a-f89e-d5f0354a7f59"
      },
      "source": [
        "plt.plot(kn, acc_k_70, label=\"70% split\")\n",
        "plt.plot(kn, acc_k_50, label=\"50% split\")\n",
        "plt.xlabel('k size')\n",
        "plt.ylabel('accuracy')\n",
        "plt.legend()\n",
        "plt.show()"
      ],
      "execution_count": null,
      "outputs": [
        {
          "output_type": "display_data",
          "data": {
            "image/png": "[encoded data removed]",
            "text/plain": [
              "<Figure size 432x288 with 1 Axes>"
            ]
          },
          "metadata": {
            "tags": [],
            "needs_background": "light"
          }
        }
      ]
    },
    {
      "cell_type": "code",
      "metadata": {
        "id": "xPQJbJKeuExP"
      },
      "source": [
        ""
      ],
      "execution_count": null,
      "outputs": []
    }
  ]
}